{
  "nbformat": 4,
  "nbformat_minor": 0,
  "metadata": {
    "colab": {
      "name": "SigNetV1Evaluate.ipynb",
      "provenance": [],
      "collapsed_sections": []
    },
    "kernelspec": {
      "name": "python3",
      "display_name": "Python 3"
    },
    "language_info": {
      "name": "python"
    }
  },
  "cells": [
    {
      "cell_type": "code",
      "metadata": {
        "id": "2wyh4fm7jyeq"
      },
      "source": [
        "!cp /content/drive/MyDrive/frames100c.zip /content/\n",
        "!unzip frames100c.zip\n",
        "!cp /content/drive/MyDrive/signetV1.h5 /content/"
      ],
      "execution_count": null,
      "outputs": []
    },
    {
      "cell_type": "code",
      "metadata": {
        "id": "3e9V9yQ3Q0GB"
      },
      "source": [
        "\n",
        "from keras import backend as K\n",
        "from keras.preprocessing.image import ImageDataGenerator,load_img, img_to_array\n",
        "from keras.models import Sequential, Model\n",
        "from keras.layers import Conv2D, MaxPooling2D,GlobalAveragePooling2D\n",
        "from keras.layers import Activation, Dropout, BatchNormalization, Flatten, Dense, AvgPool2D,MaxPool2D\n",
        "from keras.models import Sequential, Model\n",
        "from keras.optimizers import  SGD, RMSprop, Adam, Adadelta, Adagrad, Nadam\n",
        "\n",
        "import tensorflow as tf\n",
        "\n",
        "import os\n",
        "import numpy as np\n",
        "import pandas as pd\n",
        "\n",
        "import matplotlib.pyplot as plt\n",
        "%matplotlib inline"
      ],
      "execution_count": 19,
      "outputs": []
    },
    {
      "cell_type": "code",
      "metadata": {
        "id": "youPVMKPQpFE"
      },
      "source": [
        "from tensorflow import keras\n",
        "model = keras.models.load_model('signetV1.h5')"
      ],
      "execution_count": 20,
      "outputs": []
    },
    {
      "cell_type": "code",
      "metadata": {
        "id": "E_4IAxQAKGUt",
        "colab": {
          "base_uri": "https://localhost:8080/"
        },
        "outputId": "0f9f4f5a-92fa-44c6-d88f-2aaae39802a0"
      },
      "source": [
        "model.summary()"
      ],
      "execution_count": 21,
      "outputs": [
        {
          "output_type": "stream",
          "text": [
            "Model: \"sequential\"\n",
            "_________________________________________________________________\n",
            "Layer (type)                 Output Shape              Param #   \n",
            "=================================================================\n",
            "conv2d (Conv2D)              (None, 227, 227, 32)      896       \n",
            "_________________________________________________________________\n",
            "max_pooling2d (MaxPooling2D) (None, 113, 113, 32)      0         \n",
            "_________________________________________________________________\n",
            "conv2d_1 (Conv2D)            (None, 113, 113, 64)      18496     \n",
            "_________________________________________________________________\n",
            "max_pooling2d_1 (MaxPooling2 (None, 56, 56, 64)        0         \n",
            "_________________________________________________________________\n",
            "conv2d_2 (Conv2D)            (None, 56, 56, 96)        55392     \n",
            "_________________________________________________________________\n",
            "max_pooling2d_2 (MaxPooling2 (None, 28, 28, 96)        0         \n",
            "_________________________________________________________________\n",
            "conv2d_3 (Conv2D)            (None, 28, 28, 64)        55360     \n",
            "_________________________________________________________________\n",
            "max_pooling2d_3 (MaxPooling2 (None, 14, 14, 64)        0         \n",
            "_________________________________________________________________\n",
            "conv2d_4 (Conv2D)            (None, 14, 14, 32)        18464     \n",
            "_________________________________________________________________\n",
            "max_pooling2d_4 (MaxPooling2 (None, 7, 7, 32)          0         \n",
            "_________________________________________________________________\n",
            "conv2d_5 (Conv2D)            (None, 7, 7, 16)          4624      \n",
            "_________________________________________________________________\n",
            "max_pooling2d_5 (MaxPooling2 (None, 3, 3, 16)          0         \n",
            "_________________________________________________________________\n",
            "flatten (Flatten)            (None, 144)               0         \n",
            "_________________________________________________________________\n",
            "dense (Dense)                (None, 100)               14500     \n",
            "=================================================================\n",
            "Total params: 167,732\n",
            "Trainable params: 167,732\n",
            "Non-trainable params: 0\n",
            "_________________________________________________________________\n"
          ],
          "name": "stdout"
        }
      ]
    },
    {
      "cell_type": "code",
      "metadata": {
        "id": "xixbAbi-RtQk",
        "colab": {
          "base_uri": "https://localhost:8080/"
        },
        "outputId": "8faa7c24-fa5b-4a5b-95f2-fc2855a0f4fc"
      },
      "source": [
        "##############\n",
        "#DATASET_DIR = \"/content/neo\"\n",
        "DATASET_DIR = \"/content/frames\"\n",
        "##############\n",
        "#*************\n",
        "##############\n",
        "IMG_WIDTH = 227\n",
        "IMG_HEIGHT = 227\n",
        "CHANNELS = 3\n",
        "#INPUT_SHAPE = (IMG_HEIGHT, IMG_WIDTH, CHANNELS)\n",
        "#NB_CLASSES = 183\n",
        "EPOCHS = 100\n",
        "BATCH_SIZE = 4\n",
        "##############\n",
        "#*************\n",
        "##############\n",
        "train_datagen = ImageDataGenerator(rescale=1./255,\n",
        "   # shear_range=0.0,\n",
        "   # zoom_range=0.bit_length0,\n",
        "    #horizontal_flip=True,\n",
        "    validation_split=0.3)\n",
        "##############\n",
        "#*************\n",
        "##############\n",
        "train_generator = train_datagen.flow_from_directory(\n",
        " '/content/'+'frames/',\n",
        "    target_size=(IMG_HEIGHT, IMG_WIDTH),\n",
        "    batch_size=BATCH_SIZE,\n",
        "    class_mode='categorical',\n",
        "    subset='training')\n",
        "##############\n",
        "validation_generator = train_datagen.flow_from_directory(\n",
        "    DATASET_DIR, \n",
        "    target_size=(IMG_HEIGHT, IMG_WIDTH),\n",
        "    batch_size=BATCH_SIZE,\n",
        "    class_mode='categorical',\n",
        "    shuffle= True,\n",
        "    subset='validation')\n",
        "\n",
        "##############"
      ],
      "execution_count": 22,
      "outputs": [
        {
          "output_type": "stream",
          "text": [
            "Found 698 images belonging to 100 classes.\n",
            "Found 204 images belonging to 100 classes.\n"
          ],
          "name": "stdout"
        }
      ]
    },
    {
      "cell_type": "code",
      "metadata": {
        "id": "r6x7w6oEJigp",
        "colab": {
          "base_uri": "https://localhost:8080/"
        },
        "outputId": "d3ba9942-874c-4a61-b8b4-eb11889ea632"
      },
      "source": [
        "# evaluate the model\n",
        "Training_scores = model.evaluate(train_generator, verbose=1)\n"
      ],
      "execution_count": 10,
      "outputs": [
        {
          "output_type": "stream",
          "text": [
            "175/175 [==============================] - 15s 86ms/step - loss: 0.0055 - accuracy: 0.9842\n"
          ],
          "name": "stdout"
        }
      ]
    },
    {
      "cell_type": "code",
      "metadata": {
        "colab": {
          "base_uri": "https://localhost:8080/"
        },
        "id": "8ZcVVz1Wlg9i",
        "outputId": "d1385819-0c6e-4ffe-edb3-dfd36a1fa8e9"
      },
      "source": [
        "train_label = train_generator.classes\n",
        "print(label)"
      ],
      "execution_count": 18,
      "outputs": [
        {
          "output_type": "stream",
          "text": [
            "[ 0  0  1  1  2  2  3  3  4  4  5  5  6  6  7  7  8  8  8  9  9 10 10 11\n",
            " 11 12 12 13 13 14 14 15 15 16 16 17 17 18 18 19 19 20 20 21 21 22 22 23\n",
            " 23 24 24 25 25 26 26 27 27 28 28 29 29 30 30 31 31 32 32 33 33 34 34 35\n",
            " 35 36 36 37 37 38 38 39 39 40 40 41 41 42 42 43 43 44 44 45 45 46 46 47\n",
            " 47 48 48 49 49 50 50 50 51 51 52 52 53 53 54 54 55 55 56 56 57 57 58 58\n",
            " 59 59 59 60 60 61 61 62 62 63 63 64 64 65 65 66 66 67 67 68 68 69 69 70\n",
            " 70 71 71 72 72 73 73 74 74 75 75 76 76 77 77 78 78 79 79 80 80 80 81 81\n",
            " 82 82 83 83 84 84 85 85 86 86 87 87 88 88 89 89 90 90 91 91 92 92 93 93\n",
            " 94 94 95 95 96 96 97 97 98 98 99 99]\n"
          ],
          "name": "stdout"
        }
      ]
    },
    {
      "cell_type": "code",
      "metadata": {
        "colab": {
          "base_uri": "https://localhost:8080/"
        },
        "id": "A1DbXHLYk_a-",
        "outputId": "7dc9c331-4162-4a79-871f-2749b4915ca2"
      },
      "source": [
        "Validation_scores = model.evaluate(validation_generator, verbose=1)"
      ],
      "execution_count": 11,
      "outputs": [
        {
          "output_type": "stream",
          "text": [
            "51/51 [==============================] - 5s 88ms/step - loss: 0.0093 - accuracy: 0.9853\n"
          ],
          "name": "stdout"
        }
      ]
    },
    {
      "cell_type": "code",
      "metadata": {
        "id": "KmVfpiqDDX7C",
        "colab": {
          "base_uri": "https://localhost:8080/"
        },
        "outputId": "bba82bf6-99b6-4a83-a3e1-a7da2ab4ad04"
      },
      "source": [
        "val_label = validation_generator.classes\n",
        "print(label)"
      ],
      "execution_count": 16,
      "outputs": [
        {
          "output_type": "stream",
          "text": [
            "[ 0  0  1  1  2  2  3  3  4  4  5  5  6  6  7  7  8  8  8  9  9 10 10 11\n",
            " 11 12 12 13 13 14 14 15 15 16 16 17 17 18 18 19 19 20 20 21 21 22 22 23\n",
            " 23 24 24 25 25 26 26 27 27 28 28 29 29 30 30 31 31 32 32 33 33 34 34 35\n",
            " 35 36 36 37 37 38 38 39 39 40 40 41 41 42 42 43 43 44 44 45 45 46 46 47\n",
            " 47 48 48 49 49 50 50 50 51 51 52 52 53 53 54 54 55 55 56 56 57 57 58 58\n",
            " 59 59 59 60 60 61 61 62 62 63 63 64 64 65 65 66 66 67 67 68 68 69 69 70\n",
            " 70 71 71 72 72 73 73 74 74 75 75 76 76 77 77 78 78 79 79 80 80 80 81 81\n",
            " 82 82 83 83 84 84 85 85 86 86 87 87 88 88 89 89 90 90 91 91 92 92 93 93\n",
            " 94 94 95 95 96 96 97 97 98 98 99 99]\n"
          ],
          "name": "stdout"
        }
      ]
    },
    {
      "cell_type": "code",
      "metadata": {
        "id": "KFn0ljHKWHhM",
        "colab": {
          "base_uri": "https://localhost:8080/"
        },
        "outputId": "66a9dd31-1272-49ee-aa19-bb09787eeb41"
      },
      "source": [
        "print(\"%s: %.2f%%\" % (model.metrics_names[1], scores[1]*100)) "
      ],
      "execution_count": 12,
      "outputs": [
        {
          "output_type": "stream",
          "text": [
            "accuracy: 98.45%\n"
          ],
          "name": "stdout"
        }
      ]
    }
  ]
}